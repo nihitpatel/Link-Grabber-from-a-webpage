{
 "cells": [
  {
   "cell_type": "code",
   "execution_count": 25,
   "metadata": {},
   "outputs": [],
   "source": [
    "import bs4\n",
    "from urllib.request import urlopen as uReq\n",
    "from bs4 import BeautifulSoup as soup"
   ]
  },
  {
   "cell_type": "raw",
   "metadata": {},
   "source": []
  },
  {
   "cell_type": "code",
   "execution_count": 51,
   "metadata": {
    "scrolled": true
   },
   "outputs": [
    {
     "name": "stdout",
     "output_type": "stream",
     "text": [
      "http://dl2.my98music.com/Data/Serial/Arrow/S04/Arrow%20S04E01%20480p%20%5bFilmia%5d.mkv\n",
      "http://dl2.my98music.com/Data/Serial/Arrow/S04/Arrow%20S04E02%20480p%20%5bFilmia%5d.mkv\n",
      "http://dl2.my98music.com/Data/Serial/Arrow/S04/Arrow%20S04E03%20480p%20%5bFilmia%5d.mkv\n",
      "http://dl2.my98music.com/Data/Serial/Arrow/S04/Arrow%20S04E04%20480p%20%5bFilmia%5d.mkv\n",
      "http://dl2.my98music.com/Data/Serial/Arrow/S04/Arrow%20S04E05%20480p%20%5bFilmia%5d.mkv\n",
      "http://dl2.my98music.com/Data/Serial/Arrow/S04/Arrow%20S04E06%20480p%20%5bFilmia%5d.mkv\n",
      "http://dl2.my98music.com/Data/Serial/Arrow/S04/Arrow%20S04E07%20480p%20%5bFilmia%5d.mkv\n",
      "http://dl2.my98music.com/Data/Serial/Arrow/S04/Arrow%20S04E08%20480p%20%5bFilmia%5d.mkv\n",
      "http://dl2.my98music.com/Data/Serial/Arrow/S04/Arrow%20S04E09%20480p%20%5bFilmia%5d.mkv\n",
      "http://dl2.my98music.com/Data/Serial/Arrow/S04/Arrow%20S04E10%20480p%20%5bFilmia%5d.mkv\n",
      "http://dl2.my98music.com/Data/Serial/Arrow/S04/Arrow%20S04E11%20480p%20%5bFilmia%5d.mkv\n",
      "http://dl2.my98music.com/Data/Serial/Arrow/S04/Arrow%20S04E12%20480p%20%5bFilmia%5d.mkv\n",
      "http://dl2.my98music.com/Data/Serial/Arrow/S04/Arrow%20S04E13%20480p%20%5bFilmia%5d.mkv\n",
      "http://dl2.my98music.com/Data/Serial/Arrow/S04/Arrow%20S04E14%20480p%20%5bFilmia%5d.mkv\n",
      "http://dl2.my98music.com/Data/Serial/Arrow/S04/Arrow%20S04E15%20480p%20%5bFilmia%5d.mkv\n",
      "http://dl2.my98music.com/Data/Serial/Arrow/S04/Arrow%20S04E16%20480p%20%5bFilmia%5d.mkv\n",
      "http://dl2.my98music.com/Data/Serial/Arrow/S04/Arrow%20S04E17%20480p%20%5bFilmia%5d.mkv\n",
      "http://dl2.my98music.com/Data/Serial/Arrow/S04/Arrow%20S04E18%20480p%20%5bFilmia%5d.mkv\n",
      "http://dl2.my98music.com/Data/Serial/Arrow/S04/Arrow%20S04E19%20480p%20%5bFilmia%5d.mkv\n",
      "http://dl2.my98music.com/Data/Serial/Arrow/S04/Arrow%20S04E20%20480p%20%5bFilmia%5d.mkv\n",
      "http://dl2.my98music.com/Data/Serial/Arrow/S04/Arrow%20S04E21%20480p%20%5bFilmia%5d.mkv\n",
      "http://dl2.my98music.com/Data/Serial/Arrow/S04/Arrow%20S04E22%20480p%20%5bFilmia%5d.mkv\n",
      "http://dl2.my98music.com/Data/Serial/Arrow/S04/Arrow%20S04E23%20480p%20%5bFilmia%5d.mkv\n"
     ]
    }
   ],
   "source": [
    "url = 'http://dl2.my98music.com/Data/Serial/Arrow/S04/'\n",
    "#url = 'https://www.tutorialspoint.com/asp.net/'\n",
    "client = uReq(url)\n",
    "\n",
    "page = client.read()\n",
    "page_s = soup(page,\"html.parser\")\n",
    "\n",
    "for link in page_s.findAll('a'):\n",
    "    l = link.get('href')\n",
    "    if l[-3:]=='mkv' :\n",
    "        print(url + l)"
   ]
  },
  {
   "cell_type": "code",
   "execution_count": 37,
   "metadata": {},
   "outputs": [],
   "source": []
  }
 ],
 "metadata": {
  "kernelspec": {
   "display_name": "Python 3",
   "language": "python",
   "name": "python3"
  },
  "language_info": {
   "codemirror_mode": {
    "name": "ipython",
    "version": 3
   },
   "file_extension": ".py",
   "mimetype": "text/x-python",
   "name": "python",
   "nbconvert_exporter": "python",
   "pygments_lexer": "ipython3",
   "version": "3.6.1"
  }
 },
 "nbformat": 4,
 "nbformat_minor": 2
}
