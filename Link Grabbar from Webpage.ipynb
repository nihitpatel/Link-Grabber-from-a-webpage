{
 "cells": [
  {
   "cell_type": "code",
   "execution_count": 16,
   "metadata": {},
   "outputs": [],
   "source": [
    "import re\n",
    "import linkGrabber\n"
   ]
  },
  {
   "cell_type": "code",
   "execution_count": 24,
   "metadata": {},
   "outputs": [
    {
     "name": "stdout",
     "output_type": "stream",
     "text": [
      "[   {'href': '../', 'seo': '', 'text': 'Parent Directory'},\n",
      "    {   'href': 'Arrow%20S05E01%20480p%20%5bFilmia%5d.mkv',\n",
      "        'seo': 'Arrow%20S05E01%20480p%20%5bFilmia%5d.mkv',\n",
      "        'text': 'Arrow S05E01 480p [Filmia].mkv'},\n",
      "    {   'href': 'Arrow%20S05E02%20480p%20%5bFilmia%5d.mkv',\n",
      "        'seo': 'Arrow%20S05E02%20480p%20%5bFilmia%5d.mkv',\n",
      "        'text': 'Arrow S05E02 480p [Filmia].mkv'},\n",
      "    {   'href': 'Arrow%20S05E03%20480p%20%5bFilmia%5d.mkv',\n",
      "        'seo': 'Arrow%20S05E03%20480p%20%5bFilmia%5d.mkv',\n",
      "        'text': 'Arrow S05E03 480p [Filmia].mkv'}]\n",
      "None\n"
     ]
    }
   ],
   "source": [
    "links = linkGrabber.Links('http://dl2.my98music.com/Data/Serial/Arrow/S05/')\n",
    "gb = links.find(limit=4,pretty=True)\n",
    "print(gb)"
   ]
  },
  {
   "cell_type": "code",
   "execution_count": 32,
   "metadata": {},
   "outputs": [
    {
     "data": {
      "text/plain": [
       "[{'href': '../', 'seo': '', 'text': 'Parent Directory'},\n",
       " {'href': 'Arrow%20S05E01%20480p%20%5bFilmia%5d.mkv',\n",
       "  'seo': 'Arrow%20S05E01%20480p%20%5bFilmia%5d.mkv',\n",
       "  'text': 'Arrow S05E01 480p [Filmia].mkv'},\n",
       " {'href': 'Arrow%20S05E02%20480p%20%5bFilmia%5d.mkv',\n",
       "  'seo': 'Arrow%20S05E02%20480p%20%5bFilmia%5d.mkv',\n",
       "  'text': 'Arrow S05E02 480p [Filmia].mkv'},\n",
       " {'href': 'Arrow%20S05E03%20480p%20%5bFilmia%5d.mkv',\n",
       "  'seo': 'Arrow%20S05E03%20480p%20%5bFilmia%5d.mkv',\n",
       "  'text': 'Arrow S05E03 480p [Filmia].mkv'},\n",
       " {'href': 'Arrow%20S05E04%20480p%20%5bFilmia%5d.mkv',\n",
       "  'seo': 'Arrow%20S05E04%20480p%20%5bFilmia%5d.mkv',\n",
       "  'text': 'Arrow S05E04 480p [Filmia].mkv'},\n",
       " {'href': 'Arrow%20S05E05%20480p%20%5bFilmia%5d.mkv',\n",
       "  'seo': 'Arrow%20S05E05%20480p%20%5bFilmia%5d.mkv',\n",
       "  'text': 'Arrow S05E05 480p [Filmia].mkv'},\n",
       " {'href': 'Arrow%20S05E06%20480p%20%5bFilmia%5d.mkv',\n",
       "  'seo': 'Arrow%20S05E06%20480p%20%5bFilmia%5d.mkv',\n",
       "  'text': 'Arrow S05E06 480p [Filmia].mkv'},\n",
       " {'href': 'Arrow%20S05E07%20480p%20%5bFilmia%5d.mkv',\n",
       "  'seo': 'Arrow%20S05E07%20480p%20%5bFilmia%5d.mkv',\n",
       "  'text': 'Arrow S05E07 480p [Filmia].mkv'},\n",
       " {'href': 'Arrow%20S05E08%20480p%20%5bFilmia%5d.mkv',\n",
       "  'seo': 'Arrow%20S05E08%20480p%20%5bFilmia%5d.mkv',\n",
       "  'text': 'Arrow S05E08 480p [Filmia].mkv'},\n",
       " {'href': 'Arrow%20S05E09%20480p%20%5bFilmia%5d.mkv',\n",
       "  'seo': 'Arrow%20S05E09%20480p%20%5bFilmia%5d.mkv',\n",
       "  'text': 'Arrow S05E09 480p [Filmia].mkv'},\n",
       " {'href': 'Arrow%20S05E10%20480p%20%5bFilmia%5d.mkv',\n",
       "  'seo': 'Arrow%20S05E10%20480p%20%5bFilmia%5d.mkv',\n",
       "  'text': 'Arrow S05E10 480p [Filmia].mkv'},\n",
       " {'href': 'Arrow%20S05E11%20480p%20%5bFilmia%5d.mkv',\n",
       "  'seo': 'Arrow%20S05E11%20480p%20%5bFilmia%5d.mkv',\n",
       "  'text': 'Arrow S05E11 480p [Filmia].mkv'},\n",
       " {'href': 'Arrow%20S05E12%20480p%20%5bFilmia%5d.mkv',\n",
       "  'seo': 'Arrow%20S05E12%20480p%20%5bFilmia%5d.mkv',\n",
       "  'text': 'Arrow S05E12 480p [Filmia].mkv'},\n",
       " {'href': 'Arrow%20S05E13%20480p%20%5bFilmia%5d.mkv',\n",
       "  'seo': 'Arrow%20S05E13%20480p%20%5bFilmia%5d.mkv',\n",
       "  'text': 'Arrow S05E13 480p [Filmia].mkv'},\n",
       " {'href': 'Arrow%20S05E14%20480p%20%5bFilmia%5d.mkv',\n",
       "  'seo': 'Arrow%20S05E14%20480p%20%5bFilmia%5d.mkv',\n",
       "  'text': 'Arrow S05E14 480p [Filmia].mkv'},\n",
       " {'href': 'Arrow%20S05E15%20480p%20%5bFilmia%5d.mkv',\n",
       "  'seo': 'Arrow%20S05E15%20480p%20%5bFilmia%5d.mkv',\n",
       "  'text': 'Arrow S05E15 480p [Filmia].mkv'},\n",
       " {'href': 'Arrow%20S05E16%20480p%20%5bFilmia%5d.mkv',\n",
       "  'seo': 'Arrow%20S05E16%20480p%20%5bFilmia%5d.mkv',\n",
       "  'text': 'Arrow S05E16 480p [Filmia].mkv'},\n",
       " {'href': 'Arrow%20S05E17%20480p%20%5bFilmia%5d.mkv',\n",
       "  'seo': 'Arrow%20S05E17%20480p%20%5bFilmia%5d.mkv',\n",
       "  'text': 'Arrow S05E17 480p [Filmia].mkv'},\n",
       " {'href': 'Arrow%20S05E18%20480p%20%5bFilmia%5d.mkv',\n",
       "  'seo': 'Arrow%20S05E18%20480p%20%5bFilmia%5d.mkv',\n",
       "  'text': 'Arrow S05E18 480p [Filmia].mkv'},\n",
       " {'href': 'Arrow%20S05E19%20480p%20%5bFilmia%5d.mkv',\n",
       "  'seo': 'Arrow%20S05E19%20480p%20%5bFilmia%5d.mkv',\n",
       "  'text': 'Arrow S05E19 480p [Filmia].mkv'},\n",
       " {'href': 'Arrow%20S05E20%20480p%20%5bFilmia%5d.mkv',\n",
       "  'seo': 'Arrow%20S05E20%20480p%20%5bFilmia%5d.mkv',\n",
       "  'text': 'Arrow S05E20 480p [Filmia].mkv'},\n",
       " {'href': 'Arrow%20S05E21%20480p%20%5bFilmia%5d.mkv',\n",
       "  'seo': 'Arrow%20S05E21%20480p%20%5bFilmia%5d.mkv',\n",
       "  'text': 'Arrow S05E21 480p [Filmia].mkv'},\n",
       " {'href': 'Arrow%20S05E22%20480p%20%5bFilmia%5d.mkv',\n",
       "  'seo': 'Arrow%20S05E22%20480p%20%5bFilmia%5d.mkv',\n",
       "  'text': 'Arrow S05E22 480p [Filmia].mkv'},\n",
       " {'href': 'Arrow%20S05E23%20480p%20%5bFilmia%5d.mkv',\n",
       "  'seo': 'Arrow%20S05E23%20480p%20%5bFilmia%5d.mkv',\n",
       "  'text': 'Arrow S05E23 480p [Filmia].mkv'}]"
      ]
     },
     "execution_count": 32,
     "metadata": {},
     "output_type": "execute_result"
    }
   ],
   "source": [
    "links = linkGrabber.Links('http://dl2.my98music.com/Data/Serial/Arrow/S05/')\n",
    "links.find(exclude=[{\"text\": re.compile(\"href\") }])"
   ]
  },
  {
   "cell_type": "code",
   "execution_count": null,
   "metadata": {
    "collapsed": true
   },
   "outputs": [],
   "source": []
  }
 ],
 "metadata": {
  "kernelspec": {
   "display_name": "Python 3",
   "language": "python",
   "name": "python3"
  },
  "language_info": {
   "codemirror_mode": {
    "name": "ipython",
    "version": 3
   },
   "file_extension": ".py",
   "mimetype": "text/x-python",
   "name": "python",
   "nbconvert_exporter": "python",
   "pygments_lexer": "ipython3",
   "version": "3.6.1"
  }
 },
 "nbformat": 4,
 "nbformat_minor": 2
}
